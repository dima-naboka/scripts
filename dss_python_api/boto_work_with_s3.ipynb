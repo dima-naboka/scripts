{
  "metadata": {
    "kernelspec": {
      "display_name": "Python (env py36)",
      "name": "py-dku-venv-py36",
      "language": "python"
    },
    "language_info": {
      "mimetype": "text/x-python",
      "nbconvert_exporter": "python",
      "version": "3.6.9",
      "name": "python",
      "pygments_lexer": "ipython3",
      "file_extension": ".py",
      "codemirror_mode": {
        "version": 3,
        "name": "ipython"
      }
    },
    "creator": "admin",
    "createdOn": 1623315896662,
    "hide_input": false,
    "modifiedBy": "admin",
    "customFields": {},
    "tags": []
  },
  "nbformat": 4,
  "nbformat_minor": 2,
  "cells": [
    {
      "execution_count": 4,
      "cell_type": "code",
      "metadata": {},
      "source": [
        "# Dorian: loging via AWS CLI SSO and set AWS_PROFILE\n%env AWS_PROFILE\u003dds_ops\n!env|grep AWS"
      ],
      "outputs": [
        {
          "output_type": "stream",
          "name": "stdout",
          "text": "env: AWS_PROFILE\u003dds_ops\nAWS_PROFILE\u003dds_ops\r\n"
        }
      ]
    },
    {
      "execution_count": 5,
      "cell_type": "code",
      "metadata": {},
      "source": [
        "# https://support.dataiku.com/a/tickets/24485\nimport boto3\ns3_client \u003d boto3.client(\u0027s3\u0027)\nmy_bucket \u003d \u0027dimanaboka-emr\u0027"
      ],
      "outputs": []
    },
    {
      "execution_count": 20,
      "cell_type": "code",
      "metadata": {},
      "source": [
        "s3 \u003d boto3.resource(\u0027s3\u0027)\nbucket_acl \u003d s3.BucketAcl(my_bucket)\n# bucket_acl.get_available_subresources()\nbucket_acl.grants\n# bucket_acl.owner"
      ],
      "outputs": [
        {
          "output_type": "execute_result",
          "metadata": {},
          "data": {
            "text/plain": "[{\u0027Grantee\u0027: {\u0027DisplayName\u0027: \u0027tech-admin+ds-aws\u0027,\n   \u0027ID\u0027: \u002704e89ff73f66c0fc7eabd7778d4955c2e59bf80660c02b721c75f6bcd66324eb\u0027,\n   \u0027Type\u0027: \u0027CanonicalUser\u0027},\n  \u0027Permission\u0027: \u0027FULL_CONTROL\u0027}]"
          },
          "execution_count": 20
        }
      ]
    },
    {
      "execution_count": 29,
      "cell_type": "code",
      "metadata": {},
      "source": [
        "bucket_acl.put(\n    ACL\u003d\u0027bucket-owner-full-control\u0027\n#     AccessControlPolicy\u003d{\n#         \u0027Grants\u0027: [\n#             {\n#                 \u0027Grantee\u0027: {\n#                     \u0027DisplayName\u0027: \u0027tech-admin+fe-aws\u0027,\n#                     \u0027ID\u0027: \u002744e9c58b97539b034962ecfdc1fb2e140a974ecf812491a8603bcda809f9bff8\u0027,\n#                     \u0027Type\u0027: \u0027CanonicalUser\u0027\n#                 },\n#                 \u0027Permission\u0027: \u0027READ\u0027\n#             },\n#         ],\n#         \u0027Owner\u0027: {\n#             \u0027DisplayName\u0027: \u0027tech-admin+ds-aws\u0027,\n#             \u0027ID\u0027: \u002704e89ff73f66c0fc7eabd7778d4955c2e59bf80660c02b721c75f6bcd66324eb\u0027\n#         }\n#     }\n)\n# s3.put_object(\n#     Bucket \u003d \u0027dazn-aml-ad-impression-forecast-stage\u0027,\n#     Key \u003d \u0027endpoints/fixture_info/mfl/mfl_fixtures_enriched.csv.gz\u0027,\n#     Body \u003d MFL_FIXTURES_ENRICHED_zipped,\n#     ACL \u003d \u0027bucket-owner-full-control\u0027\n# )"
      ],
      "outputs": [
        {
          "output_type": "execute_result",
          "metadata": {},
          "data": {
            "text/plain": "{\u0027ResponseMetadata\u0027: {\u0027RequestId\u0027: \u0027VEBRQA0TV0G3K0GA\u0027,\n  \u0027HostId\u0027: \u00270gXFnTP1xV/pOSrAsQR5qASZdl7044CcBkOICmKXriPz0+RC+y0KbMFWUZMoyRxuEtS+1lFRveM\u003d\u0027,\n  \u0027HTTPStatusCode\u0027: 200,\n  \u0027HTTPHeaders\u0027: {\u0027x-amz-id-2\u0027: \u00270gXFnTP1xV/pOSrAsQR5qASZdl7044CcBkOICmKXriPz0+RC+y0KbMFWUZMoyRxuEtS+1lFRveM\u003d\u0027,\n   \u0027x-amz-request-id\u0027: \u0027VEBRQA0TV0G3K0GA\u0027,\n   \u0027date\u0027: \u0027Mon, 19 Jul 2021 17:26:56 GMT\u0027,\n   \u0027server\u0027: \u0027AmazonS3\u0027,\n   \u0027content-length\u0027: \u00270\u0027},\n  \u0027RetryAttempts\u0027: 0}}"
          },
          "execution_count": 29
        }
      ]
    },
    {
      "execution_count": 0,
      "cell_type": "code",
      "metadata": {},
      "source": [
        "# https://app.intercom.com/a/apps/cebm4kxa/inbox/inbox/conversation/19807500010771\n# https://boto3.amazonaws.com/v1/documentation/api/latest/reference/services/s3.html#S3.Client.list_objects_v2\n# list all files in the bucket\n\ns3_bucket_contents \u003d  s3_client.list_objects_v2(Bucket\u003dmy_bucket)[\u0027Contents\u0027]\nfor index in range(len(s3_bucket_contents)):\n    print (s3_bucket_contents[index][\u0027Key\u0027])"
      ],
      "outputs": []
    }
  ]
}