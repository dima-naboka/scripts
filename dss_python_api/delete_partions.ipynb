{
  "metadata": {
    "kernelspec": {
      "name": "python2",
      "display_name": "Python 2",
      "language": "python"
    },
    "language_info": {
      "name": "python",
      "version": "3.6.9",
      "mimetype": "text/x-python",
      "codemirror_mode": {
        "name": "ipython",
        "version": 3
      },
      "pygments_lexer": "ipython3",
      "nbconvert_exporter": "python",
      "file_extension": ".py"
    },
    "creator": "admin",
    "modifiedBy": "admin",
    "customFields": {},
    "hide_input": false,
    "tags": []
  },
  "nbformat": 4,
  "nbformat_minor": 1,
  "cells": [
    {
      "execution_count": 1,
      "cell_type": "code",
      "metadata": {},
      "source": [
        "import dataiku"
      ],
      "outputs": []
    },
    {
      "execution_count": 0,
      "cell_type": "code",
      "metadata": {},
      "source": [
        "# # dataiku package is not designed for updating Dataset properties \n# # https://dataiku.slack.com/archives/CGD1MMU3Z/p1600100770180200\n# dataset \u003d dataiku.Dataset(\"SFPD_Reports_partitioned_year\")\n# settings \u003d dataset.get_config()\n# settings[\u0027flowOptions\u0027][\u0027rebuildBehavior\u0027]"
      ],
      "outputs": []
    },
    {
      "execution_count": 2,
      "cell_type": "code",
      "metadata": {},
      "source": [
        "client \u003d dataiku.api_client()\ncurrent_project \u003d dataiku.api_client().get_project(dataiku.get_custom_variables()[\"projectKey\"])\n# dataset \u003d current_project.get_dataset(\"SFPD_Reports_partitioned_year\")\n# settings \u003d dataset.get_definition()\n# # settings[\u0027flowOptions\u0027][\u0027rebuildBehavior\u0027]\n# settings[\u0027flowOptions\u0027][\u0027rebuildBehavior\u0027] \u003d \u0027EXPLICIT\u0027\n# dataset.set_definition(settings)\n\ncurrent_project.get_metadata()[\u0027shortDesc\u0027][-13:]\n# project_metadata[\u0027shortDesc\u0027]"
      ],
      "outputs": [
        {
          "output_type": "execute_result",
          "metadata": {},
          "data": {
            "text/plain": "u\u0027Jul 30th 2020\u0027"
          },
          "execution_count": 2
        }
      ]
    },
    {
      "execution_count": 3,
      "cell_type": "code",
      "metadata": {},
      "source": [
        "dataset_n \u003d current_project.get_dataset(\"select\")"
      ],
      "outputs": []
    },
    {
      "execution_count": 5,
      "cell_type": "code",
      "metadata": {},
      "source": [
        "dataset_n.clear(partitions\u003d\"160A\")"
      ],
      "outputs": [
        {
          "execution_count": 5,
          "metadata": {},
          "data": {
            "text/plain": "{u\u0027msg\u0027: u\u0027Cleared partitions for PARTITIONED.select\u0027}"
          },
          "output_type": "execute_result"
        }
      ]
    },
    {
      "execution_count": 17,
      "cell_type": "code",
      "metadata": {},
      "source": [
        "client \u003d dataiku.api_client()\nproject \u003d client.get_project(dataiku.get_custom_variables()[\"projectKey\"])\ndataset_to_clear \u003d project.get_dataset(\"departured_w_identifier_copy_copy\")"
      ],
      "outputs": []
    },
    {
      "execution_count": 23,
      "cell_type": "code",
      "metadata": {},
      "source": [
        "dataset_to_clear.list_partitions()"
      ],
      "outputs": [
        {
          "execution_count": 23,
          "metadata": {},
          "data": {
            "text/plain": "[u\u00272016-10\u0027,\n u\u00272016-11\u0027,\n u\u00272017-01\u0027,\n u\u00272016-01\u0027,\n u\u00272016-12\u0027,\n u\u00272016-02\u0027,\n u\u00272016-03\u0027,\n u\u00272016-04\u0027,\n u\u00272016-05\u0027,\n u\u00272016-06\u0027,\n u\u00272016-07\u0027,\n u\u00272016-08\u0027,\n u\u00272016-09\u0027]"
          },
          "output_type": "execute_result"
        }
      ]
    },
    {
      "execution_count": 19,
      "cell_type": "code",
      "metadata": {},
      "source": [
        "dataset_to_clear.clear(partitions\u003d[\u00272016-10\u0027,\u00272016-11\u0027,\u00272016-12\u0027])"
      ],
      "outputs": [
        {
          "execution_count": 19,
          "metadata": {},
          "data": {
            "text/plain": "{u\u0027msg\u0027: u\u0027Cleared partitions for PARTITIONED.departured_w_identifier_copy_copy\u0027}"
          },
          "output_type": "execute_result"
        }
      ]
    },
    {
      "execution_count": 21,
      "cell_type": "code",
      "metadata": {},
      "source": [
        "dataset_to_clear.clear()"
      ],
      "outputs": [
        {
          "execution_count": 21,
          "metadata": {},
          "data": {
            "text/plain": "{u\u0027anyMessage\u0027: False,\n u\u0027error\u0027: False,\n u\u0027messages\u0027: [],\n u\u0027success\u0027: False,\n u\u0027warning\u0027: False}"
          },
          "output_type": "execute_result"
        }
      ]
    },
    {
      "execution_count": 7,
      "cell_type": "code",
      "metadata": {},
      "source": [
        "#build all input partitions\ninput_dataset \u003d \u0027SFPD_Reports_partitioned_PdDistrict\u0027\npartitions \u003d dataiku.Dataset(input_dataset).list_partitions() # get all partitions from input datasets\npartitions_str \u003d \u0027,\u0027.join(partitions) # concatenate them\npartitions_str"
      ],
      "outputs": [
        {
          "output_type": "execute_result",
          "metadata": {},
          "data": {
            "text/plain": "u\u0027TENDERLOIN,TARAVAL,SOUTHERN,RICHMOND,PARK,NORTHERN,MISSION,INGLESIDE,CENTRAL,BAYVIEW\u0027"
          },
          "execution_count": 7
        }
      ]
    },
    {
      "execution_count": 1,
      "cell_type": "code",
      "metadata": {},
      "source": [
        "import pandas as pd"
      ],
      "outputs": []
    },
    {
      "execution_count": 22,
      "cell_type": "code",
      "metadata": {},
      "source": [
        "start_date \u003d \"2012-02-01\"\nend_date \u003d \"2012-02-10\"\nlist_of_day \u003d pd.date_range(start\u003dstart_date,end\u003dend_date).format()"
      ],
      "outputs": []
    },
    {
      "execution_count": 23,
      "cell_type": "code",
      "metadata": {},
      "source": [
        "for day in list_of_day:\n    print(day)"
      ],
      "outputs": [
        {
          "output_type": "stream",
          "name": "stdout",
          "text": "2012-02-01\n2012-02-02\n2012-02-03\n2012-02-04\n2012-02-05\n2012-02-06\n2012-02-07\n2012-02-08\n2012-02-09\n2012-02-10\n"
        }
      ]
    },
    {
      "execution_count": 0,
      "cell_type": "code",
      "metadata": {},
      "source": [
        ""
      ],
      "outputs": []
    }
  ]
}