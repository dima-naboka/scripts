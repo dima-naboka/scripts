{
  "metadata": {
    "kernelspec": {
      "name": "python2",
      "display_name": "Python 2",
      "language": "python"
    },
    "language_info": {
      "name": "python",
      "version": "3.6.9",
      "mimetype": "text/x-python",
      "codemirror_mode": {
        "name": "ipython",
        "version": 3
      },
      "pygments_lexer": "ipython3",
      "nbconvert_exporter": "python",
      "file_extension": ".py"
    },
    "creator": "admin",
    "createdOn": 1636538423063,
    "hide_input": false,
    "modifiedBy": "admin",
    "customFields": {},
    "tags": []
  },
  "nbformat": 4,
  "nbformat_minor": 1,
  "cells": [
    {
      "execution_count": 1,
      "cell_type": "code",
      "metadata": {},
      "source": [
        "import dataiku\nimport json\n#print(json.dumps(job,indent\u003d4))\n\nclient \u003d dataiku.api_client()\ncurrent_project \u003d client.get_project(dataiku.get_custom_variables()[\"projectKey\"])\n# variables \u003d current_project.get_variables()\n# general_settings \u003d client.get_general_settings()"
      ],
      "outputs": []
    },
    {
      "execution_count": 2,
      "cell_type": "code",
      "metadata": {},
      "source": [
        "ds_name_desired \u003d \u0027SFPD_Reports_by_day\u0027\n# ds_name_default \u003d \u0027SFPD_Reports_partitioned_PdDistrict_copy_NP\u0027\n\ndataset_desired \u003d current_project.get_dataset(ds_name_desired)\n# dataset_default \u003d current_project.get_dataset(ds_name_default)\n\n# dataiku.ComputedMetrics.get_global_data()\nchecks \u003d dataset_desired.get_last_metric_values()\nchecks.get_all_ids()\n"
      ],
      "outputs": [
        {
          "output_type": "execute_result",
          "metadata": {},
          "data": {
            "text/plain": "[u\u0027check:CHECK:min_1_column\u0027,\n u\u0027basic:COUNT_COLUMNS\u0027,\n u\u0027col_stats:COUNT:Descript\u0027,\n u\u0027col_stats:COUNT:IncidntNum\u0027,\n u\u0027col_stats:COUNT_DISTINCT:Descript\u0027,\n u\u0027col_stats:COUNT_DISTINCT:IncidntNum\u0027,\n u\u0027reporting:METRICS_COMPUTATION_DURATION\u0027,\n u\u0027partitioning:COUNT_PARTITIONS\u0027,\n u\u0027partitioning:PARTITIONS_LIST\u0027,\n u\u0027records:COUNT_RECORDS\u0027,\n u\u0027sql_query:metric_1:SQL probe\u0027,\n u\u0027sql_query:metric_2:SQL probe\u0027]"
          },
          "execution_count": 2
        }
      ]
    },
    {
      "execution_count": 12,
      "cell_type": "code",
      "metadata": {},
      "source": [
        "# checks.get_metric_by_id(u\u0027sql_query:metric_1:SQL probe\u0027)\nprint(\u0027one partition data: %s\u0027 %checks.get_partition_data(metric_id\u003d\u0027basic:COUNT_COLUMNS\u0027,partition\u003d\u00272012-02-01\u0027))\nprint(\u0027ALL partitions data: %s\u0027 %checks.get_partition_data(metric_id\u003d\u0027basic:COUNT_COLUMNS\u0027,partition\u003d\u0027ALL\u0027))\n"
      ],
      "outputs": [
        {
          "output_type": "stream",
          "name": "stdout",
          "text": "one partition data: None\nALL partitions data: {u\u0027dataType\u0027: u\u0027BIGINT\u0027, u\u0027partition\u0027: u\u0027ALL\u0027, u\u0027computed\u0027: 1645461013173, u\u0027value\u0027: u\u00277\u0027}\n"
        }
      ]
    },
    {
      "execution_count": 0,
      "cell_type": "code",
      "metadata": {},
      "source": [
        "# #not using metrics fow now\n# metrs.get_global_value(\u0027records:COUNT_RECORDS\u0027)\n# partitions \u003d dataset.list_partitions()\n# partitions[0:3]"
      ],
      "outputs": []
    },
    {
      "execution_count": 0,
      "cell_type": "code",
      "metadata": {},
      "source": [
        "#compute_partitions\u003d[\u00272012-03-08\u0027,\u00272012-03-13\u0027]\ncolumns_of_interest\u003d[\u0027Descript\u0027,\u0027IncidntNum\u0027]"
      ],
      "outputs": []
    },
    {
      "execution_count": 0,
      "cell_type": "code",
      "metadata": {},
      "source": [
        "#JSON for desired output\nds_settings_desired \u003d dataset_desired.get_settings()\n\nds_metrics \u003d ds_settings_desired.get_raw()[\u0027metrics\u0027]\nds_metrics_checks \u003d ds_settings_desired.get_raw()[\u0027metricsChecks\u0027]\n\ndataset_desired.compute_metrics(metric_ids\u003d[\u0027basic:COUNT_COLUMNS\u0027])"
      ],
      "outputs": []
    },
    {
      "execution_count": 0,
      "cell_type": "code",
      "metadata": {},
      "source": [
        "#JSON for desired output\n# print(json.dumps(ds_metrics_desired[\u0027displayedState\u0027][\u0027metrics\u0027],indent\u003d4))\n# ds_metrics_desired[\u0027displayedState\u0027][\u0027metrics\u0027]\n# [\u0027displayedState\u0027][\u0027metrics\u0027]\n#[\u0027probes\u0027][3] pass full dict and parse [\u0027configuration\u0027][\u0027aggregates\u0027]\n"
      ],
      "outputs": []
    },
    {
      "execution_count": 0,
      "cell_type": "code",
      "metadata": {},
      "source": [
        "#JSON for default output\nds_settings_default \u003d dataset_default.get_settings()\nds_metrics_default \u003d ds_settings_default.get_raw()[\u0027metrics\u0027]"
      ],
      "outputs": []
    },
    {
      "execution_count": 0,
      "cell_type": "code",
      "metadata": {},
      "source": [
        "#JSON for default output\n# print(json.dumps(ds_metrics_default[\u0027probes\u0027],indent\u003d4))\n# ds_metrics_default[\u0027probes\u0027]\nprint(json.dumps(ds_metrics_default[\u0027displayedState\u0027][\u0027metrics\u0027]))"
      ],
      "outputs": []
    },
    {
      "execution_count": 0,
      "cell_type": "code",
      "metadata": {},
      "source": [
        "# enable and define \"Columns statistics\" metrics\ncol_stat_json\u003d{u\u0027computeOnBuildMode\u0027: u\u0027NO\u0027,\n u\u0027configuration\u0027: {u\u0027aggregates\u0027: []},\n u\u0027enabled\u0027: True,\n u\u0027meta\u0027: {u\u0027level\u0027: 2, u\u0027name\u0027: u\u0027Columns statistics\u0027},\n u\u0027type\u0027: u\u0027col_stats\u0027}\n\ncol_stat_aggr \u003d col_stat_json[\u0027configuration\u0027][\u0027aggregates\u0027]\n# col_stat_aggr\ncol_stat_aggr.extend({u\u0027aggregated\u0027: u\u0027COUNT\u0027, u\u0027column\u0027: cl} for cl in columns_of_interest)\ncol_stat_aggr.extend({u\u0027aggregated\u0027: u\u0027COUNT_DISTINCT\u0027, u\u0027column\u0027: cl} for cl in columns_of_interest)\ncol_stat_aggr\n\ncol_stat_json[\u0027configuration\u0027][\u0027aggregates\u0027] \u003d col_stat_aggr\ncol_stat_json\n# type(col_stat_aggr)"
      ],
      "outputs": []
    },
    {
      "execution_count": 0,
      "cell_type": "code",
      "metadata": {},
      "source": [
        "# Status/Edit/General settings tab \n#in case any additional metrics are enabled or \"Columns statistics\" metrics were enabled but disabled afterwards\ntry:\n    ds_metrics_default[\u0027probes\u0027][3] \u003d col_stat_json\nexcept:\n    ds_metrics_default[\u0027probes\u0027].append(col_stat_json)"
      ],
      "outputs": []
    },
    {
      "execution_count": 0,
      "cell_type": "code",
      "metadata": {},
      "source": [
        "#Status/Metrics/Metrics to display pop-up\nds_metrics_default[\u0027displayedState\u0027][\u0027metrics\u0027].extend(compute_metrics)"
      ],
      "outputs": []
    },
    {
      "execution_count": 0,
      "cell_type": "code",
      "metadata": {},
      "source": [
        "ds_settings_default.save()"
      ],
      "outputs": []
    },
    {
      "execution_count": 0,
      "cell_type": "code",
      "metadata": {},
      "source": [
        "compute_metrics\u003d[]\ncompute_metrics.extend(\u0027col_stats:COUNT:\u0027+cl for cl in columns_of_interest)\ncompute_metrics.extend(\u0027col_stats:COUNT_DISTINCT:\u0027+cl for cl in columns_of_interest)\ncompute_metrics\n\n# compute_metrics\u003d[\u0027col_stats:COUNT:Descript\u0027,\u0027col_stats:COUNT_DISTINCT:Descript\u0027,\u0027col_stats:COUNT:IncidntNum\u0027,\u0027col_stats:COUNT_DISTINCT:IncidntNum\u0027]\n\n# dataset.compute_metrics(metric_ids\u003dcompute_metrics)"
      ],
      "outputs": []
    },
    {
      "execution_count": 0,
      "cell_type": "code",
      "metadata": {},
      "source": [
        "dataset_desired.compute_metrics(metric_ids\u003d[\u0027basic:COUNT_COLUMNS\u0027,\u0027check:CHECK:min_1_column\u0027])"
      ],
      "outputs": []
    },
    {
      "execution_count": 0,
      "cell_type": "code",
      "metadata": {},
      "source": [
        "# dataset_desired.run_checks(partition\u003d[\"2012-03-31\"],checks\u003d[\"min_1_column\"])\n# Start call: /api/datasets/get-prepared-check-histories [POST] user\u003dadmin \n# [projectKey\u003dPARTITIONED datasetName\u003dSFPD_Reports_by_day data\u003d{\"partition\":\"ALL\",\"checks\":[\"min_1_column\"]}]\ndataset_desired.run_checks()\n"
      ],
      "outputs": []
    },
    {
      "execution_count": 0,
      "cell_type": "code",
      "metadata": {},
      "source": [
        ""
      ],
      "outputs": []
    }
  ]
}