{
  "metadata": {
    "kernelspec": {
      "display_name": "Python (env py37)",
      "name": "py-dku-venv-py37",
      "language": "python"
    },
    "language_info": {
      "mimetype": "text/x-python",
      "nbconvert_exporter": "python",
      "version": "3.7.7",
      "name": "python",
      "pygments_lexer": "ipython3",
      "file_extension": ".py",
      "codemirror_mode": {
        "version": 3,
        "name": "ipython"
      }
    },
    "creator": "admin",
    "createdOn": 1632228299555,
    "hide_input": false,
    "customFields": {},
    "tags": [],
    "modifiedBy": "admin"
  },
  "nbformat": 4,
  "nbformat_minor": 1,
  "cells": [
    {
      "execution_count": 1,
      "cell_type": "code",
      "metadata": {},
      "source": [
        "import dataiku\nfrom pptx import Presentation\nimport io\nio_buffer \u003d io.BytesIO()"
      ],
      "outputs": []
    },
    {
      "execution_count": 17,
      "cell_type": "code",
      "metadata": {},
      "source": [
        "managed_folder_id \u003d \u0027Alu1O252\u0027\ninput_file_name \u003d \u0027powerpoint_template.pptx\u0027\noutput_file_name \u003d \u0027final_powerpoint.pptx\u0027\n\noutput_folder \u003d dataiku.Folder(managed_folder_id)\n\ninput_dataset_name \u003d \u0027Meat_and_Egg_Production\u0027\ninput_dataset \u003d dataiku.Dataset(input_dataset_name)\ndf \u003d input_dataset.get_dataframe(limit\u003d5)"
      ],
      "outputs": [
        {
          "output_type": "execute_result",
          "metadata": {},
          "data": {
            "text/plain": "\u0027        Entity Code  Year  meat_prod_tonnes  Meat_supply_kgperCap  Food Balance Sheets: Eggs - Production (FAO (2017)) (tonnes)\\n0  Afghanistan  AFG  1800               NaN                   NaN                                                           NaN\\n1  Afghanistan  AFG  1801               NaN                   NaN                                                           NaN\\n2  Afghanistan  AFG  1802               NaN                   NaN                                                           NaN\\n3  Afghanistan  AFG  1803               NaN                   NaN                                                           NaN\\n4  Afghanistan  AFG  1804               NaN                   NaN                                                           NaN\u0027"
          },
          "execution_count": 17
        }
      ]
    },
    {
      "execution_count": 19,
      "cell_type": "code",
      "metadata": {},
      "source": [
        "with output_folder.get_download_stream(input_file_name) as pptx_tmpl:\n    pptx_tmpl_buffer \u003d io.BytesIO(pptx_tmpl.data)\n    pptx_tmpl_buffer.seek(0)\n    prs \u003d Presentation(pptx_tmpl_buffer)\n    pptx_tmpl_buffer.close()\n    \n    lyt\u003dprs.slide_layouts[1] # choosing a slide layout\n    slide\u003dprs.slides.add_slide(lyt) # adding a slide\n    title\u003dslide.shapes.title # assigning a title\n    subtitle\u003dslide.placeholders[1] # placeholder for subtitle\n    title.text\u003d \"added from iPython notebook\"# title\n    subtitle.text\u003ddf.to_string() # subtitle\n    \n    prs.save(io_buffer)\n    io_buffer.seek(0)\n    \n    output_folder.upload_stream(output_file_name, io_buffer)"
      ],
      "outputs": []
    },
    {
      "execution_count": 0,
      "cell_type": "code",
      "metadata": {},
      "source": [
        ""
      ],
      "outputs": []
    }
  ]
}