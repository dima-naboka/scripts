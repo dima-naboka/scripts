{
  "metadata": {
    "kernelspec": {
      "display_name": "Python (env py36)",
      "name": "py-dku-venv-py36",
      "language": "python"
    },
    "hide_input": false,
    "language_info": {
      "mimetype": "text/x-python",
      "nbconvert_exporter": "python",
      "version": "3.6.9",
      "name": "python",
      "pygments_lexer": "ipython3",
      "file_extension": ".py",
      "codemirror_mode": {
        "version": 3,
        "name": "ipython"
      }
    },
    "modifiedBy": "admin"
  },
  "nbformat": 4,
  "nbformat_minor": 2,
  "cells": [
    {
      "execution_count": 1,
      "cell_type": "code",
      "metadata": {},
      "source": [
        "import dataiku"
      ],
      "outputs": []
    },
    {
      "execution_count": 2,
      "cell_type": "code",
      "metadata": {},
      "source": [
        "folder_handle \u003d dataiku.Folder(\"files_gz_s3\")\nfile_name \u003d \u0027my_file.fin\u0027\n# folder_handle.get_info()\n# folder_handle.list_paths_in_partition()\n# folder_handle.get_path_details(\u0027out-s0.csv.gz\u0027)\n# folder_handle.get_download_stream(\u0027out-s0.csv.gz\u0027)\n\n# s3://bucket-name/key-name\nfull_file_path \u003d \u0027s3://\u0027 + folder_handle.get_info()[\u0027accessInfo\u0027][\u0027bucket\u0027] + folder_handle.get_info()[\u0027accessInfo\u0027][\u0027root\u0027] + \u0027/\u0027 + file_name\nfull_file_path"
      ],
      "outputs": [
        {
          "output_type": "execute_result",
          "metadata": {},
          "data": {
            "text/plain": "\u0027s3://dss-qa-ireland/dimanaboka/my_file.fin\u0027"
          },
          "execution_count": 2
        }
      ]
    },
    {
      "execution_count": 5,
      "cell_type": "code",
      "metadata": {},
      "source": [
        "folder_handle.list_paths_in_partition()"
      ],
      "outputs": [
        {
          "output_type": "execute_result",
          "metadata": {},
          "data": {
            "text/plain": "[\u0027/COPYOFFILTER_FILLES/files_gzipped_info_copy/out-s0.csv.gz\u0027,\n \u0027/DKU_HAIKU_STARTER/CwKjJwIr/CLUSTERING_7G9lCFYp.pkl\u0027,\n \u0027/DKU_HAIKU_STARTER/CwKjJwIr/CLUSTERING_7G9lCFYp_manual.pkl\u0027,\n \u0027/DKU_HAIKU_STARTER/CwKjJwIr/PREDICTION_Clj0CRAY.pkl\u0027,\n \u0027/FILTER_FILLES_COPY/files_gzipped_info_copy/out-s0.csv.gz\u0027,\n \u0027/Sample of accountsd.txt\u0027,\n \u0027/Screenshot 2020-10-12 at 13.57.16.png\u0027,\n \u0027/TEST/HANDS_health_data_copy/part-r-00000.snappy.parquet\u0027,\n \u0027/dataiku/FILTER_FILLES/files_gzipped_s3/out-s0.csv.gz\u0027,\n \u0027/my_file.fin\u0027,\n \u0027/my_file_1.fin\u0027,\n \u0027/my_model.pkl\u0027]"
          },
          "execution_count": 5
        }
      ]
    },
    {
      "execution_count": 0,
      "cell_type": "code",
      "metadata": {},
      "source": [
        ""
      ],
      "outputs": []
    }
  ]
}