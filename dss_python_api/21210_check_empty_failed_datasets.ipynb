{
  "metadata": {
    "creator": "admin",
    "customFields": {},
    "kernelspec": {
      "name": "python2",
      "display_name": "Python 2",
      "language": "python"
    },
    "language_info": {
      "name": "python",
      "version": "3.6.9",
      "mimetype": "text/x-python",
      "codemirror_mode": {
        "name": "ipython",
        "version": 3
      },
      "pygments_lexer": "ipython3",
      "nbconvert_exporter": "python",
      "file_extension": ".py"
    },
    "tags": [],
    "hide_input": false,
    "modifiedBy": "admin"
  },
  "nbformat": 4,
  "nbformat_minor": 1,
  "cells": [
    {
      "execution_count": 3,
      "cell_type": "code",
      "metadata": {},
      "source": [
        "import dataiku\ncurrent_project \u003d dataiku.api_client().get_project(dataiku.get_custom_variables()[\"projectKey\"])\ndatasets \u003d current_project.list_datasets()\n\nfor dataset in datasets:\n    print (\u0027dataset \u0027 + dataset[\u0027name\u0027])\n    ds \u003d dataiku.Dataset(dataset[\u0027name\u0027])\n    try:\n        df \u003d ds.get_dataframe(limit\u003d1)\n        if df.empty:\n            print(\u0027IS EMPTY\u0027)\n    except:\n        print (\u0027FAILED TO BE READ\u0027)\n    print(\u0027\u003d\u003d\u003d\u0027)"
      ],
      "outputs": [
        {
          "name": "stdout",
          "output_type": "stream",
          "text": "dataset files_gzipped_info\n\u003d\u003d\u003d\ndataset files_gzipped_info_prepared\nIS EMPTY\n\u003d\u003d\u003d\ndataset py\nFAILED TO BE READ\n\u003d\u003d\u003d\ndataset some_file_ls\n\u003d\u003d\u003d\n"
        }
      ]
    },
    {
      "execution_count": 0,
      "cell_type": "code",
      "metadata": {},
      "source": [
        ""
      ],
      "outputs": []
    }
  ]
}