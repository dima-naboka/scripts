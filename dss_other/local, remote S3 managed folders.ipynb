{
 "cells": [
  {
   "cell_type": "code",
   "execution_count": 1,
   "metadata": {},
   "outputs": [],
   "source": [
    "library(dataiku)\n",
    "library(readr)"
   ]
  },
  {
   "cell_type": "code",
   "execution_count": null,
   "metadata": {},
   "outputs": [],
   "source": [
    "# #Example: load a DSS dataset as a R dataframe\n",
    "# mydataset <- dkuReadDataset(\"files_gzipped_dataset\", samplingMethod=\"head\", nbRows=10)"
   ]
  },
  {
   "cell_type": "code",
   "execution_count": 2,
   "metadata": {},
   "outputs": [
    {
     "data": {
      "text/html": [
       "'/Users/khcit/Library/DataScienceStudio/dss_home/datateam_managed_datasets/FILTER_FILLES/PNXY4fGm'"
      ],
      "text/latex": [
       "'/Users/khcit/Library/DataScienceStudio/dss\\_home/datateam\\_managed\\_datasets/FILTER\\_FILLES/PNXY4fGm'"
      ],
      "text/markdown": [
       "'/Users/khcit/Library/DataScienceStudio/dss_home/datateam_managed_datasets/FILTER_FILLES/PNXY4fGm'"
      ],
      "text/plain": [
       "[1] \"/Users/khcit/Library/DataScienceStudio/dss_home/datateam_managed_datasets/FILTER_FILLES/PNXY4fGm\""
      ]
     },
     "metadata": {},
     "output_type": "display_data"
    }
   ],
   "source": [
    "# https://doc.dataiku.com/dss/api/8.0/R/dataiku/reference/dkuManagedFolderPath.html\n",
    "# This method can only be used for local-filesystem based managed foldeers \n",
    "# For other kinds of managed folders (HDFS, S3, ...), \n",
    "# use other functions: dkuManagedFolderPartitionPaths, dkuManagedFolderDownloadPath, ...\n",
    "\n",
    "path_to_localFolder <- dkuManagedFolderPath(\"files_gzipped\")\n",
    "path_to_localFolder"
   ]
  },
  {
   "cell_type": "code",
   "execution_count": 3,
   "metadata": {},
   "outputs": [
    {
     "data": {
      "text/html": [
       "<ol>\n",
       "\t<li>'/file_10'</li>\n",
       "\t<li>'/input_file_1'</li>\n",
       "\t<li>'/file_1'</li>\n",
       "\t<li>'/accidents_2011.csv'</li>\n",
       "\t<li>'/input_file_2'</li>\n",
       "\t<li>'/input_file_3'</li>\n",
       "</ol>\n"
      ],
      "text/latex": [
       "\\begin{enumerate}\n",
       "\\item '/file\\_10'\n",
       "\\item '/input\\_file\\_1'\n",
       "\\item '/file\\_1'\n",
       "\\item '/accidents\\_2011.csv'\n",
       "\\item '/input\\_file\\_2'\n",
       "\\item '/input\\_file\\_3'\n",
       "\\end{enumerate}\n"
      ],
      "text/markdown": [
       "1. '/file_10'\n",
       "2. '/input_file_1'\n",
       "3. '/file_1'\n",
       "4. '/accidents_2011.csv'\n",
       "5. '/input_file_2'\n",
       "6. '/input_file_3'\n",
       "\n",
       "\n"
      ],
      "text/plain": [
       "[[1]]\n",
       "[1] \"/file_10\"\n",
       "\n",
       "[[2]]\n",
       "[1] \"/input_file_1\"\n",
       "\n",
       "[[3]]\n",
       "[1] \"/file_1\"\n",
       "\n",
       "[[4]]\n",
       "[1] \"/accidents_2011.csv\"\n",
       "\n",
       "[[5]]\n",
       "[1] \"/input_file_2\"\n",
       "\n",
       "[[6]]\n",
       "[1] \"/input_file_3\"\n"
      ]
     },
     "metadata": {},
     "output_type": "display_data"
    }
   ],
   "source": [
    "list_local_files <- dkuManagedFolderPartitionPaths(\"files_gzipped\")\n",
    "list_local_files"
   ]
  },
  {
   "cell_type": "code",
   "execution_count": 4,
   "metadata": {},
   "outputs": [],
   "source": [
    "# get_local_file <- dkuManagedFolderDownloadPath(\"files_gzipped\",path=\"accidents_2011.csv\")\n",
    "filename = paste(path_to_localFolder,'/accidents_2011.csv',sep = '')\n",
    "# get_local_file <- read_csv_chunked(file = filename,callback = ChunkCallback,chunk_size = 10)\n",
    "\n",
    "f <- function(x, pos)\n",
    "get_local_file <- read_csv_chunked(filename, DataFrameCallback$new(f), chunk_size = 5)"
   ]
  },
  {
   "cell_type": "code",
   "execution_count": 8,
   "metadata": {},
   "outputs": [
    {
     "data": {
      "text/html": [
       "<ol>\n",
       "\t<li>'/FILTER_FILLES/files_gzipped_info_copy/out-s0.csv.gz'</li>\n",
       "\t<li>'/Sample of accountsd.txt'</li>\n",
       "\t<li>'/Screenshot 2020-10-12 at 13.57.16.png'</li>\n",
       "\t<li>'/dataiku/FILTER_FILLES/files_gzipped_s3/out-s0.csv.gz'</li>\n",
       "</ol>\n"
      ],
      "text/latex": [
       "\\begin{enumerate}\n",
       "\\item '/FILTER\\_FILLES/files\\_gzipped\\_info\\_copy/out-s0.csv.gz'\n",
       "\\item '/Sample of accountsd.txt'\n",
       "\\item '/Screenshot 2020-10-12 at 13.57.16.png'\n",
       "\\item '/dataiku/FILTER\\_FILLES/files\\_gzipped\\_s3/out-s0.csv.gz'\n",
       "\\end{enumerate}\n"
      ],
      "text/markdown": [
       "1. '/FILTER_FILLES/files_gzipped_info_copy/out-s0.csv.gz'\n",
       "2. '/Sample of accountsd.txt'\n",
       "3. '/Screenshot 2020-10-12 at 13.57.16.png'\n",
       "4. '/dataiku/FILTER_FILLES/files_gzipped_s3/out-s0.csv.gz'\n",
       "\n",
       "\n"
      ],
      "text/plain": [
       "[[1]]\n",
       "[1] \"/FILTER_FILLES/files_gzipped_info_copy/out-s0.csv.gz\"\n",
       "\n",
       "[[2]]\n",
       "[1] \"/Sample of accountsd.txt\"\n",
       "\n",
       "[[3]]\n",
       "[1] \"/Screenshot 2020-10-12 at 13.57.16.png\"\n",
       "\n",
       "[[4]]\n",
       "[1] \"/dataiku/FILTER_FILLES/files_gzipped_s3/out-s0.csv.gz\"\n"
      ]
     },
     "metadata": {},
     "output_type": "display_data"
    }
   ],
   "source": [
    "# https://doc.dataiku.com/dss/api/8.0/R/dataiku/reference/dkuManagedFolderPartitionPaths.html\n",
    "# List folders and files inside managed S3 folder\n",
    "\n",
    "path_to_remoteS3Folder <- dkuManagedFolderPartitionPaths(\"files_gz_s3\")\n",
    "path_to_remoteS3Folder"
   ]
  },
  {
   "cell_type": "code",
   "execution_count": 7,
   "metadata": {},
   "outputs": [],
   "source": [
    "get_s3_file <- dkuManagedFolderDownloadPath(\"files_gz_s3\",path=\"/Screenshot 2020-10-12 at 13.57.16.png\",as='raw')\n",
    "fs <- function(x, pos)\n",
    "ssbv <- read_csv_chunked(get_s3_file, DataFrameCallback$new(fs), chunk_size = 5)"
   ]
  },
  {
   "cell_type": "code",
   "execution_count": null,
   "metadata": {},
   "outputs": [],
   "source": []
  }
 ],
 "metadata": {
  "creator": "admin",
  "customFields": {},
  "kernelspec": {
   "display_name": "R",
   "language": "R",
   "name": "ir"
  },
  "language_info": {
   "codemirror_mode": "r",
   "file_extension": ".r",
   "mimetype": "text/x-r-source",
   "name": "R",
   "pygments_lexer": "r",
   "version": "3.6.3"
  },
  "tags": []
 },
 "nbformat": 4,
 "nbformat_minor": 1
}
